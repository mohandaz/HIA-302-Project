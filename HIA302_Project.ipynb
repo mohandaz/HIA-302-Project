{
  "nbformat": 4,
  "nbformat_minor": 0,
  "metadata": {
    "colab": {
      "provenance": [],
      "authorship_tag": "ABX9TyNRk5FiH0N0uZOpYxEG5MPV",
      "include_colab_link": true
    },
    "kernelspec": {
      "name": "python3",
      "display_name": "Python 3"
    },
    "language_info": {
      "name": "python"
    }
  },
  "cells": [
    {
      "cell_type": "markdown",
      "metadata": {
        "id": "view-in-github",
        "colab_type": "text"
      },
      "source": [
        "<a href=\"https://colab.research.google.com/github/mohandaz/HIA-302-Project/blob/main/HIA302_Project.ipynb\" target=\"_parent\"><img src=\"https://colab.research.google.com/assets/colab-badge.svg\" alt=\"Open In Colab\"/></a>"
      ]
    },
    {
      "cell_type": "markdown",
      "source": [
        "CLone Github Repository : https://github.com/mohandaz/HIA-302-Project"
      ],
      "metadata": {
        "id": "wQQGxpfjI1XS"
      }
    },
    {
      "cell_type": "code",
      "execution_count": null,
      "metadata": {
        "id": "KLzPsvyXH9lf",
        "outputId": "ee9dfdfd-d646-4ba7-c8d2-0b4f4c550c4a",
        "colab": {
          "base_uri": "https://localhost:8080/"
        }
      },
      "outputs": [
        {
          "output_type": "stream",
          "name": "stdout",
          "text": [
            "fatal: destination path 'HIA-302-Project' already exists and is not an empty directory.\n"
          ]
        }
      ],
      "source": [
        "!git clone https://github.com/mohandaz/HIA-302-Project"
      ]
    },
    {
      "cell_type": "markdown",
      "source": [
        "Libraries"
      ],
      "metadata": {
        "id": "IIIRalphJeNX"
      }
    },
    {
      "cell_type": "code",
      "source": [
        "import pandas as pd\n",
        "import csv"
      ],
      "metadata": {
        "id": "dD72gIX4JUEj"
      },
      "execution_count": 12,
      "outputs": []
    },
    {
      "cell_type": "markdown",
      "source": [
        "Converting .txt to .csv - using pandas"
      ],
      "metadata": {
        "id": "aetlHlRCJn4j"
      }
    },
    {
      "cell_type": "code",
      "source": [
        "# Specify the file paths\n",
        "input_file_path = \"/content/HIA-302-Project/horse-colic.txt\"\n",
        "output_csv_path = \"/content/HIA-302-Project/horse-colic.csv\"\n",
        "\n",
        "# Read the data into a Pandas DataFrame\n",
        "df = pd.read_csv(input_file_path, header=None, na_values=['?'])\n",
        "\n",
        "# Save the DataFrame to a CSV file\n",
        "df.to_csv(output_csv_path, index=False)\n",
        "\n",
        "print(f\"DataFrame saved to {output_csv_path}\")\n"
      ],
      "metadata": {
        "id": "N4-oGobTJC3d",
        "outputId": "e473e5c3-9a33-459b-8666-528fa07cefbd",
        "colab": {
          "base_uri": "https://localhost:8080/"
        }
      },
      "execution_count": 26,
      "outputs": [
        {
          "output_type": "stream",
          "name": "stdout",
          "text": [
            "DataFrame saved to /content/HIA-302-Project/horse-colic.csv\n"
          ]
        }
      ]
    },
    {
      "cell_type": "markdown",
      "source": [
        "Converting .txt to .csv - using built-in 'csv' module"
      ],
      "metadata": {
        "id": "CyoqONPVK1pR"
      }
    },
    {
      "cell_type": "code",
      "source": [
        "import csv\n",
        "\n",
        "# Specify the file paths\n",
        "input_file_path = \"/content/HIA-302-Project/horse-colic.txt\"\n",
        "output_csv_path = \"/content/HIA-302-Project/horse-colic.csv\"\n",
        "\n",
        "# Read the data into a list of rows\n",
        "with open(input_file_path, 'r') as file:\n",
        "    lines = file.readlines()\n",
        "\n",
        "# Split each line into a list of values\n",
        "data = [line.strip().split(',') for line in lines]\n",
        "\n",
        "# Write the data to a CSV file\n",
        "with open(output_csv_path, 'w', newline='') as csvfile:\n",
        "    csv_writer = csv.writer(csvfile)\n",
        "    csv_writer.writerows(data)\n",
        "\n",
        "print(f\"Data saved to {output_csv_path}\")\n"
      ],
      "metadata": {
        "id": "mcxwKgqDLBf0",
        "outputId": "19e50f49-4f5e-428b-be1a-3ffb74878935",
        "colab": {
          "base_uri": "https://localhost:8080/"
        }
      },
      "execution_count": 27,
      "outputs": [
        {
          "output_type": "stream",
          "name": "stdout",
          "text": [
            "Data saved to /content/HIA-302-Project/horse-colic.csv\n"
          ]
        }
      ]
    },
    {
      "cell_type": "markdown",
      "source": [
        "Other method (not using library)"
      ],
      "metadata": {
        "id": "I46WRGQqO4fY"
      }
    },
    {
      "cell_type": "code",
      "source": [
        "# Specify the file paths\n",
        "input_file_path = \"/content/HIA-302-Project/horse-colic.txt\"\n",
        "output_csv_path =  \"/content/HIA-302-Project/horse-colic.csv\"\n",
        "\n",
        "# Read the text file and write to CSV manually\n",
        "with open(input_file_path, 'r') as infile, open(output_csv_path, 'w') as outfile:\n",
        "    # Iterate through lines in the input file\n",
        "    for line in infile:\n",
        "        # Remove trailing newline and split by comma\n",
        "        row = line.strip().split(',')\n",
        "\n",
        "        # Write the row to the CSV file\n",
        "        outfile.write(','.join(row) + '\\n')\n",
        "\n",
        "print(f\"Data saved to {output_csv_path}\")\n"
      ],
      "metadata": {
        "id": "OJ5MmPYBO3-6",
        "outputId": "9de72055-f1f1-445f-d987-7426fe1d06e6",
        "colab": {
          "base_uri": "https://localhost:8080/"
        }
      },
      "execution_count": 25,
      "outputs": [
        {
          "output_type": "stream",
          "name": "stdout",
          "text": [
            "Data saved to /content/HIA-302-Project/horse-colic.csv\n"
          ]
        }
      ]
    }
  ]
}