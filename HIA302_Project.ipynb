{
  "nbformat": 4,
  "nbformat_minor": 0,
  "metadata": {
    "colab": {
      "provenance": [],
      "authorship_tag": "ABX9TyN8f9if04kwY1FMP886HzRv",
      "include_colab_link": true
    },
    "kernelspec": {
      "name": "python3",
      "display_name": "Python 3"
    },
    "language_info": {
      "name": "python"
    }
  },
  "cells": [
    {
      "cell_type": "markdown",
      "metadata": {
        "id": "view-in-github",
        "colab_type": "text"
      },
      "source": [
        "<a href=\"https://colab.research.google.com/github/mohandaz/HIA-302-Project/blob/main/HIA302_Project.ipynb\" target=\"_parent\"><img src=\"https://colab.research.google.com/assets/colab-badge.svg\" alt=\"Open In Colab\"/></a>"
      ]
    },
    {
      "cell_type": "markdown",
      "source": [
        "CLone Github Repository : https://github.com/mohandaz/HIA-302-Project"
      ],
      "metadata": {
        "id": "wQQGxpfjI1XS"
      }
    },
    {
      "cell_type": "code",
      "execution_count": null,
      "metadata": {
        "id": "KLzPsvyXH9lf",
        "outputId": "ee9dfdfd-d646-4ba7-c8d2-0b4f4c550c4a",
        "colab": {
          "base_uri": "https://localhost:8080/"
        }
      },
      "outputs": [
        {
          "output_type": "stream",
          "name": "stdout",
          "text": [
            "fatal: destination path 'HIA-302-Project' already exists and is not an empty directory.\n"
          ]
        }
      ],
      "source": [
        "!git clone https://github.com/mohandaz/HIA-302-Project"
      ]
    },
    {
      "cell_type": "markdown",
      "source": [
        "Libraries"
      ],
      "metadata": {
        "id": "IIIRalphJeNX"
      }
    },
    {
      "cell_type": "code",
      "source": [
        "import pandas as pd\n",
        "import csv\n",
        "import numpy as np"
      ],
      "metadata": {
        "id": "dD72gIX4JUEj"
      },
      "execution_count": null,
      "outputs": []
    },
    {
      "cell_type": "markdown",
      "source": [
        "Converting .txt to .csv - using pandas"
      ],
      "metadata": {
        "id": "aetlHlRCJn4j"
      }
    },
    {
      "cell_type": "code",
      "source": [
        "import pandas as pd\n",
        "\n",
        "# Specify input and output file paths\n",
        "input_file_path = '/content/HIA-302-Project/horse-colic.txt'\n",
        "output_file_path = '/content/HIA-302-Project/horse-colic.csv'\n",
        "\n",
        "# Read the text file using Pandas and write to CSV\n",
        "df = pd.read_csv(input_file_path, header=None)\n",
        "df.to_csv(output_file_path, index=False)\n",
        "\n",
        "print(f\"Conversion completed. CSV file saved at: {output_file_path}\")\n"
      ],
      "metadata": {
        "id": "1gptFVahpImH",
        "outputId": "05c3b95f-1f0f-4ea8-8b96-f8c5dd1d9885",
        "colab": {
          "base_uri": "https://localhost:8080/"
        }
      },
      "execution_count": null,
      "outputs": [
        {
          "output_type": "stream",
          "name": "stdout",
          "text": [
            "Conversion completed. CSV file saved at: /content/HIA-302-Project/horse-colic.csv\n"
          ]
        }
      ]
    },
    {
      "cell_type": "markdown",
      "source": [
        "Converting .txt to .csv - using built-in 'csv' module"
      ],
      "metadata": {
        "id": "CyoqONPVK1pR"
      }
    },
    {
      "cell_type": "code",
      "source": [
        "import csv\n",
        "\n",
        "# Specify input and output file paths\n",
        "input_file_path = '/content/HIA-302-Project/horse-colic.txt'\n",
        "output_file_path = '/content/HIA-302-Project/horse-colic.csv'\n",
        "\n",
        "# Read the text file and write to CSV\n",
        "with open(input_file_path, 'r') as txt_file, open(output_file_path, 'w', newline='') as csv_file:\n",
        "    # Create CSV writer object\n",
        "    csv_writer = csv.writer(csv_file)\n",
        "\n",
        "    # Read each line from the text file and write to the CSV file\n",
        "    for line in txt_file:\n",
        "        # Split the line into a list of values using ',' as the delimiter\n",
        "        values = line.strip().split(',')\n",
        "        # Write the values to the CSV file\n",
        "        csv_writer.writerow(values)\n",
        "\n",
        "print(f\"Conversion completed. CSV file saved at: {output_file_path}\")\n",
        "\n",
        "\n"
      ],
      "metadata": {
        "id": "--iNwj7dqd1W",
        "outputId": "417bcd3c-0155-4313-b9e1-d8746d2676d1",
        "colab": {
          "base_uri": "https://localhost:8080/"
        }
      },
      "execution_count": null,
      "outputs": [
        {
          "output_type": "stream",
          "name": "stdout",
          "text": [
            "Conversion completed. CSV file saved at: /content/HIA-302-Project/horse-colic.csv\n"
          ]
        }
      ]
    },
    {
      "cell_type": "markdown",
      "source": [
        "Question 2.1 : Demonstrate that the csv file can read in Jupyter Notebook, and the dataset remains the same as the raw dataset.\n"
      ],
      "metadata": {
        "id": "I46WRGQqO4fY"
      }
    },
    {
      "cell_type": "code",
      "source": [
        "# Specify the path to the CSV file\n",
        "csv_file_path = '/content/HIA-302-Project/horse-colic.csv'\n",
        "\n",
        "# Read the CSV file into a Pandas DataFrame\n",
        "horse_colic = pd.read_csv(csv_file_path, header=None,)\n",
        "\n",
        "# Display the first few rows of the CSV DataFrame\n",
        "\n",
        "horse_colic.info()\n",
        "horse_colic.head()\n"
      ],
      "metadata": {
        "id": "DpVICmu4qc0_",
        "outputId": "975261e8-3ebe-4263-d224-37a93bd24aaf",
        "colab": {
          "base_uri": "https://localhost:8080/",
          "height": 881
        }
      },
      "execution_count": null,
      "outputs": [
        {
          "output_type": "stream",
          "name": "stdout",
          "text": [
            "<class 'pandas.core.frame.DataFrame'>\n",
            "RangeIndex: 301 entries, 0 to 300\n",
            "Data columns (total 28 columns):\n",
            " #   Column  Non-Null Count  Dtype \n",
            "---  ------  --------------  ----- \n",
            " 0   0       301 non-null    object\n",
            " 1   1       301 non-null    int64 \n",
            " 2   2       301 non-null    int64 \n",
            " 3   3       301 non-null    object\n",
            " 4   4       301 non-null    object\n",
            " 5   5       301 non-null    object\n",
            " 6   6       301 non-null    object\n",
            " 7   7       301 non-null    object\n",
            " 8   8       301 non-null    object\n",
            " 9   9       301 non-null    object\n",
            " 10  10      301 non-null    object\n",
            " 11  11      301 non-null    object\n",
            " 12  12      301 non-null    object\n",
            " 13  13      301 non-null    object\n",
            " 14  14      301 non-null    object\n",
            " 15  15      301 non-null    object\n",
            " 16  16      301 non-null    object\n",
            " 17  17      301 non-null    object\n",
            " 18  18      301 non-null    object\n",
            " 19  19      301 non-null    object\n",
            " 20  20      301 non-null    object\n",
            " 21  21      301 non-null    object\n",
            " 22  22      301 non-null    object\n",
            " 23  23      301 non-null    int64 \n",
            " 24  24      301 non-null    int64 \n",
            " 25  25      301 non-null    int64 \n",
            " 26  26      301 non-null    int64 \n",
            " 27  27      301 non-null    int64 \n",
            "dtypes: int64(7), object(21)\n",
            "memory usage: 66.0+ KB\n"
          ]
        },
        {
          "output_type": "execute_result",
          "data": {
            "text/plain": [
              "  0   1        2      3    4   5  6  7  8  9   ...     18    19  20    21  22  \\\n",
              "0  0   1        2      3    4   5  6  7  8  9  ...     18    19  20    21  22   \n",
              "1  2   1   530101  38.50   66  28  3  3  ?  2  ...  45.00  8.40   ?     ?   2   \n",
              "2  1   1   534817   39.2   88  20  ?  ?  4  1  ...     50    85   2     2   3   \n",
              "3  2   1   530334  38.30   40  24  1  1  3  1  ...  33.00  6.70   ?     ?   1   \n",
              "4  1   9  5290409  39.10  164  84  4  1  6  2  ...  48.00  7.20   3  5.30   2   \n",
              "\n",
              "   23     24  25  26  27  \n",
              "0  23     24  25  26  27  \n",
              "1   2  11300   0   0   2  \n",
              "2   2   2208   0   0   2  \n",
              "3   2      0   0   0   1  \n",
              "4   1   2208   0   0   1  \n",
              "\n",
              "[5 rows x 28 columns]"
            ],
            "text/html": [
              "\n",
              "  <div id=\"df-37d3fb82-64f2-4920-ac9c-ab910b052547\" class=\"colab-df-container\">\n",
              "    <div>\n",
              "<style scoped>\n",
              "    .dataframe tbody tr th:only-of-type {\n",
              "        vertical-align: middle;\n",
              "    }\n",
              "\n",
              "    .dataframe tbody tr th {\n",
              "        vertical-align: top;\n",
              "    }\n",
              "\n",
              "    .dataframe thead th {\n",
              "        text-align: right;\n",
              "    }\n",
              "</style>\n",
              "<table border=\"1\" class=\"dataframe\">\n",
              "  <thead>\n",
              "    <tr style=\"text-align: right;\">\n",
              "      <th></th>\n",
              "      <th>0</th>\n",
              "      <th>1</th>\n",
              "      <th>2</th>\n",
              "      <th>3</th>\n",
              "      <th>4</th>\n",
              "      <th>5</th>\n",
              "      <th>6</th>\n",
              "      <th>7</th>\n",
              "      <th>8</th>\n",
              "      <th>9</th>\n",
              "      <th>...</th>\n",
              "      <th>18</th>\n",
              "      <th>19</th>\n",
              "      <th>20</th>\n",
              "      <th>21</th>\n",
              "      <th>22</th>\n",
              "      <th>23</th>\n",
              "      <th>24</th>\n",
              "      <th>25</th>\n",
              "      <th>26</th>\n",
              "      <th>27</th>\n",
              "    </tr>\n",
              "  </thead>\n",
              "  <tbody>\n",
              "    <tr>\n",
              "      <th>0</th>\n",
              "      <td>0</td>\n",
              "      <td>1</td>\n",
              "      <td>2</td>\n",
              "      <td>3</td>\n",
              "      <td>4</td>\n",
              "      <td>5</td>\n",
              "      <td>6</td>\n",
              "      <td>7</td>\n",
              "      <td>8</td>\n",
              "      <td>9</td>\n",
              "      <td>...</td>\n",
              "      <td>18</td>\n",
              "      <td>19</td>\n",
              "      <td>20</td>\n",
              "      <td>21</td>\n",
              "      <td>22</td>\n",
              "      <td>23</td>\n",
              "      <td>24</td>\n",
              "      <td>25</td>\n",
              "      <td>26</td>\n",
              "      <td>27</td>\n",
              "    </tr>\n",
              "    <tr>\n",
              "      <th>1</th>\n",
              "      <td>2</td>\n",
              "      <td>1</td>\n",
              "      <td>530101</td>\n",
              "      <td>38.50</td>\n",
              "      <td>66</td>\n",
              "      <td>28</td>\n",
              "      <td>3</td>\n",
              "      <td>3</td>\n",
              "      <td>?</td>\n",
              "      <td>2</td>\n",
              "      <td>...</td>\n",
              "      <td>45.00</td>\n",
              "      <td>8.40</td>\n",
              "      <td>?</td>\n",
              "      <td>?</td>\n",
              "      <td>2</td>\n",
              "      <td>2</td>\n",
              "      <td>11300</td>\n",
              "      <td>0</td>\n",
              "      <td>0</td>\n",
              "      <td>2</td>\n",
              "    </tr>\n",
              "    <tr>\n",
              "      <th>2</th>\n",
              "      <td>1</td>\n",
              "      <td>1</td>\n",
              "      <td>534817</td>\n",
              "      <td>39.2</td>\n",
              "      <td>88</td>\n",
              "      <td>20</td>\n",
              "      <td>?</td>\n",
              "      <td>?</td>\n",
              "      <td>4</td>\n",
              "      <td>1</td>\n",
              "      <td>...</td>\n",
              "      <td>50</td>\n",
              "      <td>85</td>\n",
              "      <td>2</td>\n",
              "      <td>2</td>\n",
              "      <td>3</td>\n",
              "      <td>2</td>\n",
              "      <td>2208</td>\n",
              "      <td>0</td>\n",
              "      <td>0</td>\n",
              "      <td>2</td>\n",
              "    </tr>\n",
              "    <tr>\n",
              "      <th>3</th>\n",
              "      <td>2</td>\n",
              "      <td>1</td>\n",
              "      <td>530334</td>\n",
              "      <td>38.30</td>\n",
              "      <td>40</td>\n",
              "      <td>24</td>\n",
              "      <td>1</td>\n",
              "      <td>1</td>\n",
              "      <td>3</td>\n",
              "      <td>1</td>\n",
              "      <td>...</td>\n",
              "      <td>33.00</td>\n",
              "      <td>6.70</td>\n",
              "      <td>?</td>\n",
              "      <td>?</td>\n",
              "      <td>1</td>\n",
              "      <td>2</td>\n",
              "      <td>0</td>\n",
              "      <td>0</td>\n",
              "      <td>0</td>\n",
              "      <td>1</td>\n",
              "    </tr>\n",
              "    <tr>\n",
              "      <th>4</th>\n",
              "      <td>1</td>\n",
              "      <td>9</td>\n",
              "      <td>5290409</td>\n",
              "      <td>39.10</td>\n",
              "      <td>164</td>\n",
              "      <td>84</td>\n",
              "      <td>4</td>\n",
              "      <td>1</td>\n",
              "      <td>6</td>\n",
              "      <td>2</td>\n",
              "      <td>...</td>\n",
              "      <td>48.00</td>\n",
              "      <td>7.20</td>\n",
              "      <td>3</td>\n",
              "      <td>5.30</td>\n",
              "      <td>2</td>\n",
              "      <td>1</td>\n",
              "      <td>2208</td>\n",
              "      <td>0</td>\n",
              "      <td>0</td>\n",
              "      <td>1</td>\n",
              "    </tr>\n",
              "  </tbody>\n",
              "</table>\n",
              "<p>5 rows × 28 columns</p>\n",
              "</div>\n",
              "    <div class=\"colab-df-buttons\">\n",
              "\n",
              "  <div class=\"colab-df-container\">\n",
              "    <button class=\"colab-df-convert\" onclick=\"convertToInteractive('df-37d3fb82-64f2-4920-ac9c-ab910b052547')\"\n",
              "            title=\"Convert this dataframe to an interactive table.\"\n",
              "            style=\"display:none;\">\n",
              "\n",
              "  <svg xmlns=\"http://www.w3.org/2000/svg\" height=\"24px\" viewBox=\"0 -960 960 960\">\n",
              "    <path d=\"M120-120v-720h720v720H120Zm60-500h600v-160H180v160Zm220 220h160v-160H400v160Zm0 220h160v-160H400v160ZM180-400h160v-160H180v160Zm440 0h160v-160H620v160ZM180-180h160v-160H180v160Zm440 0h160v-160H620v160Z\"/>\n",
              "  </svg>\n",
              "    </button>\n",
              "\n",
              "  <style>\n",
              "    .colab-df-container {\n",
              "      display:flex;\n",
              "      gap: 12px;\n",
              "    }\n",
              "\n",
              "    .colab-df-convert {\n",
              "      background-color: #E8F0FE;\n",
              "      border: none;\n",
              "      border-radius: 50%;\n",
              "      cursor: pointer;\n",
              "      display: none;\n",
              "      fill: #1967D2;\n",
              "      height: 32px;\n",
              "      padding: 0 0 0 0;\n",
              "      width: 32px;\n",
              "    }\n",
              "\n",
              "    .colab-df-convert:hover {\n",
              "      background-color: #E2EBFA;\n",
              "      box-shadow: 0px 1px 2px rgba(60, 64, 67, 0.3), 0px 1px 3px 1px rgba(60, 64, 67, 0.15);\n",
              "      fill: #174EA6;\n",
              "    }\n",
              "\n",
              "    .colab-df-buttons div {\n",
              "      margin-bottom: 4px;\n",
              "    }\n",
              "\n",
              "    [theme=dark] .colab-df-convert {\n",
              "      background-color: #3B4455;\n",
              "      fill: #D2E3FC;\n",
              "    }\n",
              "\n",
              "    [theme=dark] .colab-df-convert:hover {\n",
              "      background-color: #434B5C;\n",
              "      box-shadow: 0px 1px 3px 1px rgba(0, 0, 0, 0.15);\n",
              "      filter: drop-shadow(0px 1px 2px rgba(0, 0, 0, 0.3));\n",
              "      fill: #FFFFFF;\n",
              "    }\n",
              "  </style>\n",
              "\n",
              "    <script>\n",
              "      const buttonEl =\n",
              "        document.querySelector('#df-37d3fb82-64f2-4920-ac9c-ab910b052547 button.colab-df-convert');\n",
              "      buttonEl.style.display =\n",
              "        google.colab.kernel.accessAllowed ? 'block' : 'none';\n",
              "\n",
              "      async function convertToInteractive(key) {\n",
              "        const element = document.querySelector('#df-37d3fb82-64f2-4920-ac9c-ab910b052547');\n",
              "        const dataTable =\n",
              "          await google.colab.kernel.invokeFunction('convertToInteractive',\n",
              "                                                    [key], {});\n",
              "        if (!dataTable) return;\n",
              "\n",
              "        const docLinkHtml = 'Like what you see? Visit the ' +\n",
              "          '<a target=\"_blank\" href=https://colab.research.google.com/notebooks/data_table.ipynb>data table notebook</a>'\n",
              "          + ' to learn more about interactive tables.';\n",
              "        element.innerHTML = '';\n",
              "        dataTable['output_type'] = 'display_data';\n",
              "        await google.colab.output.renderOutput(dataTable, element);\n",
              "        const docLink = document.createElement('div');\n",
              "        docLink.innerHTML = docLinkHtml;\n",
              "        element.appendChild(docLink);\n",
              "      }\n",
              "    </script>\n",
              "  </div>\n",
              "\n",
              "\n",
              "<div id=\"df-852374f0-a2f7-4eac-9ff4-7697e4bfc395\">\n",
              "  <button class=\"colab-df-quickchart\" onclick=\"quickchart('df-852374f0-a2f7-4eac-9ff4-7697e4bfc395')\"\n",
              "            title=\"Suggest charts\"\n",
              "            style=\"display:none;\">\n",
              "\n",
              "<svg xmlns=\"http://www.w3.org/2000/svg\" height=\"24px\"viewBox=\"0 0 24 24\"\n",
              "     width=\"24px\">\n",
              "    <g>\n",
              "        <path d=\"M19 3H5c-1.1 0-2 .9-2 2v14c0 1.1.9 2 2 2h14c1.1 0 2-.9 2-2V5c0-1.1-.9-2-2-2zM9 17H7v-7h2v7zm4 0h-2V7h2v10zm4 0h-2v-4h2v4z\"/>\n",
              "    </g>\n",
              "</svg>\n",
              "  </button>\n",
              "\n",
              "<style>\n",
              "  .colab-df-quickchart {\n",
              "      --bg-color: #E8F0FE;\n",
              "      --fill-color: #1967D2;\n",
              "      --hover-bg-color: #E2EBFA;\n",
              "      --hover-fill-color: #174EA6;\n",
              "      --disabled-fill-color: #AAA;\n",
              "      --disabled-bg-color: #DDD;\n",
              "  }\n",
              "\n",
              "  [theme=dark] .colab-df-quickchart {\n",
              "      --bg-color: #3B4455;\n",
              "      --fill-color: #D2E3FC;\n",
              "      --hover-bg-color: #434B5C;\n",
              "      --hover-fill-color: #FFFFFF;\n",
              "      --disabled-bg-color: #3B4455;\n",
              "      --disabled-fill-color: #666;\n",
              "  }\n",
              "\n",
              "  .colab-df-quickchart {\n",
              "    background-color: var(--bg-color);\n",
              "    border: none;\n",
              "    border-radius: 50%;\n",
              "    cursor: pointer;\n",
              "    display: none;\n",
              "    fill: var(--fill-color);\n",
              "    height: 32px;\n",
              "    padding: 0;\n",
              "    width: 32px;\n",
              "  }\n",
              "\n",
              "  .colab-df-quickchart:hover {\n",
              "    background-color: var(--hover-bg-color);\n",
              "    box-shadow: 0 1px 2px rgba(60, 64, 67, 0.3), 0 1px 3px 1px rgba(60, 64, 67, 0.15);\n",
              "    fill: var(--button-hover-fill-color);\n",
              "  }\n",
              "\n",
              "  .colab-df-quickchart-complete:disabled,\n",
              "  .colab-df-quickchart-complete:disabled:hover {\n",
              "    background-color: var(--disabled-bg-color);\n",
              "    fill: var(--disabled-fill-color);\n",
              "    box-shadow: none;\n",
              "  }\n",
              "\n",
              "  .colab-df-spinner {\n",
              "    border: 2px solid var(--fill-color);\n",
              "    border-color: transparent;\n",
              "    border-bottom-color: var(--fill-color);\n",
              "    animation:\n",
              "      spin 1s steps(1) infinite;\n",
              "  }\n",
              "\n",
              "  @keyframes spin {\n",
              "    0% {\n",
              "      border-color: transparent;\n",
              "      border-bottom-color: var(--fill-color);\n",
              "      border-left-color: var(--fill-color);\n",
              "    }\n",
              "    20% {\n",
              "      border-color: transparent;\n",
              "      border-left-color: var(--fill-color);\n",
              "      border-top-color: var(--fill-color);\n",
              "    }\n",
              "    30% {\n",
              "      border-color: transparent;\n",
              "      border-left-color: var(--fill-color);\n",
              "      border-top-color: var(--fill-color);\n",
              "      border-right-color: var(--fill-color);\n",
              "    }\n",
              "    40% {\n",
              "      border-color: transparent;\n",
              "      border-right-color: var(--fill-color);\n",
              "      border-top-color: var(--fill-color);\n",
              "    }\n",
              "    60% {\n",
              "      border-color: transparent;\n",
              "      border-right-color: var(--fill-color);\n",
              "    }\n",
              "    80% {\n",
              "      border-color: transparent;\n",
              "      border-right-color: var(--fill-color);\n",
              "      border-bottom-color: var(--fill-color);\n",
              "    }\n",
              "    90% {\n",
              "      border-color: transparent;\n",
              "      border-bottom-color: var(--fill-color);\n",
              "    }\n",
              "  }\n",
              "</style>\n",
              "\n",
              "  <script>\n",
              "    async function quickchart(key) {\n",
              "      const quickchartButtonEl =\n",
              "        document.querySelector('#' + key + ' button');\n",
              "      quickchartButtonEl.disabled = true;  // To prevent multiple clicks.\n",
              "      quickchartButtonEl.classList.add('colab-df-spinner');\n",
              "      try {\n",
              "        const charts = await google.colab.kernel.invokeFunction(\n",
              "            'suggestCharts', [key], {});\n",
              "      } catch (error) {\n",
              "        console.error('Error during call to suggestCharts:', error);\n",
              "      }\n",
              "      quickchartButtonEl.classList.remove('colab-df-spinner');\n",
              "      quickchartButtonEl.classList.add('colab-df-quickchart-complete');\n",
              "    }\n",
              "    (() => {\n",
              "      let quickchartButtonEl =\n",
              "        document.querySelector('#df-852374f0-a2f7-4eac-9ff4-7697e4bfc395 button');\n",
              "      quickchartButtonEl.style.display =\n",
              "        google.colab.kernel.accessAllowed ? 'block' : 'none';\n",
              "    })();\n",
              "  </script>\n",
              "</div>\n",
              "\n",
              "    </div>\n",
              "  </div>\n"
            ]
          },
          "metadata": {},
          "execution_count": 81
        }
      ]
    },
    {
      "cell_type": "markdown",
      "source": [
        "2.3 Replase the missing values (i.e. with\"?\" with NaN (Not a Number) value in a loaded dataset using python"
      ],
      "metadata": {
        "id": "4ub8vja2qbpc"
      }
    },
    {
      "cell_type": "code",
      "source": [
        "\n",
        "# Specify the path to the CSV file\n",
        "csv_file_path = '/content/HIA-302-Project/horse-colic.csv'\n",
        "\n",
        "# Read the CSV file into a Pandas DataFrame\n",
        "horse_colic = pd.read_csv(csv_file_path, header=None, na_values=['?'])\n",
        "\n",
        "# Display the first few rows of the original DataFrame\n",
        "print(\"Original DataFrame:\")\n",
        "print(horse_colic.head())\n",
        "\n",
        "# Replace \"?\" with NaN\n",
        "horse_colic.replace('?', pd.NA, inplace=True)\n",
        "\n",
        "# Display the first few rows of the DataFrame after replacing \"?\" with NaN\n",
        "print(\"\\nDataFrame after replacing '?' with NaN:\")\n",
        "print(horse_colic.head())\n",
        "horse_colic.info()\n"
      ],
      "metadata": {
        "id": "3b5niecyppOE"
      },
      "execution_count": null,
      "outputs": []
    },
    {
      "cell_type": "markdown",
      "source": [
        "2.4 Save the latest dataset with Nan as horse_colic_with_Nan.csv and ensure the data frame's row number is not saved into csv file"
      ],
      "metadata": {
        "id": "RVAyEIQi00_O"
      }
    },
    {
      "cell_type": "code",
      "source": [
        "import pandas as pd\n",
        "import numpy as np\n",
        "\n",
        "# Assuming your DataFrame is named 'df'\n",
        "# If your DataFrame doesn't have column names, you can add them before saving\n",
        "\n",
        "# Assuming the column names are in the first row of your DataFrame\n",
        "df.columns = df.columns.str.replace('NaN', 'NAN')\n",
        "\n",
        "# Replace 'NAN' strings with actual NaN values and remaining '?' with NaN\n",
        "replacement_dict = {'?': np.nan}\n",
        "df.replace(replacement_dict, inplace=True)\n",
        "\n",
        "# Drop the first row (row with column names)\n",
        "df = df[1:]\n",
        "\n",
        "# Save the entire DataFrame to a CSV file without including the row numbers\n",
        "df.to_csv('/content/HIA-302-Project/horse-colic-with-NaN.csv', index=False, na_rep='NaN')\n"
      ],
      "metadata": {
        "id": "0XkKebWN3Ymw",
        "outputId": "11c16a97-163e-40b2-cc06-0d24263119c1",
        "colab": {
          "base_uri": "https://localhost:8080/"
        }
      },
      "execution_count": null,
      "outputs": [
        {
          "output_type": "stream",
          "name": "stderr",
          "text": [
            "<ipython-input-120-d717a3668567>:12: SettingWithCopyWarning: \n",
            "A value is trying to be set on a copy of a slice from a DataFrame\n",
            "\n",
            "See the caveats in the documentation: https://pandas.pydata.org/pandas-docs/stable/user_guide/indexing.html#returning-a-view-versus-a-copy\n",
            "  df.replace(replacement_dict, inplace=True)\n"
          ]
        }
      ]
    },
    {
      "cell_type": "markdown",
      "source": [
        "2.5 Rename the header by following the description file (horse-colic.names) with not more than 10 characters i the header title"
      ],
      "metadata": {
        "id": "n7ZlY4QW1LBK"
      }
    },
    {
      "cell_type": "markdown",
      "source": [
        "2.6 Save the latest dataset with header title as horse_colic_with_title.csv and ensure the data frame's row number is not saved into csv file."
      ],
      "metadata": {
        "id": "pGj26n8e1acH"
      }
    },
    {
      "cell_type": "markdown",
      "source": [
        "2.7 Load the horse_colic_with_title.csv file and display list of total NaN at each column in the data set."
      ],
      "metadata": {
        "id": "jisAv-jO1vBD"
      }
    },
    {
      "cell_type": "markdown",
      "source": [
        "2.8 Visualize the totsl NaN at each column in the dataset with a bar chart and set colour to 'blue' using Metplotlib library"
      ],
      "metadata": {
        "id": "duqutQzA16RY"
      }
    },
    {
      "cell_type": "markdown",
      "source": [
        "2.9 Retrive the datatypes for the dataset"
      ],
      "metadata": {
        "id": "bYqPqv6m2Hx2"
      }
    },
    {
      "cell_type": "markdown",
      "source": [
        "2.10 In this dataset, will it be good idea to delete/drop tha NaN rows? Justify your answer"
      ],
      "metadata": {
        "id": "GAvVUVX82N5G"
      }
    },
    {
      "cell_type": "markdown",
      "source": [
        "2.11 Read and evaluate the following codes in Figure 1. What method is the code using to reduce missing values from 1605 to 0? Justify your answer"
      ],
      "metadata": {
        "id": "ZR02B_5V2ZX3"
      }
    },
    {
      "cell_type": "markdown",
      "source": [
        "2.12 Fill out the inline comments marked with hashtags # in lines 8,11,17,20,22. and 26. include the missing codes in line 5 and 6"
      ],
      "metadata": {
        "id": "-jvtJHsA2rL6"
      }
    }
  ]
}