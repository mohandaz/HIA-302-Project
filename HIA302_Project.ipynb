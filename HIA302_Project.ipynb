{
  "nbformat": 4,
  "nbformat_minor": 0,
  "metadata": {
    "colab": {
      "provenance": [],
      "authorship_tag": "ABX9TyMp6q5sHjDsNdt8jEneSqOG",
      "include_colab_link": true
    },
    "kernelspec": {
      "name": "python3",
      "display_name": "Python 3"
    },
    "language_info": {
      "name": "python"
    }
  },
  "cells": [
    {
      "cell_type": "markdown",
      "metadata": {
        "id": "view-in-github",
        "colab_type": "text"
      },
      "source": [
        "<a href=\"https://colab.research.google.com/github/mohandaz/HIA-302-Project/blob/main/HIA302_Project.ipynb\" target=\"_parent\"><img src=\"https://colab.research.google.com/assets/colab-badge.svg\" alt=\"Open In Colab\"/></a>"
      ]
    },
    {
      "cell_type": "markdown",
      "source": [
        "CLone Github Repository : https://github.com/mohandaz/HIA-302-Project"
      ],
      "metadata": {
        "id": "wQQGxpfjI1XS"
      }
    },
    {
      "cell_type": "code",
      "execution_count": 2,
      "metadata": {
        "id": "KLzPsvyXH9lf",
        "outputId": "b982350a-8dfd-4bf4-d43c-a3dbcd0af91f",
        "colab": {
          "base_uri": "https://localhost:8080/"
        }
      },
      "outputs": [
        {
          "output_type": "stream",
          "name": "stdout",
          "text": [
            "Cloning into 'HIA-302-Project'...\n",
            "remote: Enumerating objects: 33, done.\u001b[K\n",
            "remote: Counting objects: 100% (33/33), done.\u001b[K\n",
            "remote: Compressing objects: 100% (30/30), done.\u001b[K\n",
            "remote: Total 33 (delta 13), reused 0 (delta 0), pack-reused 0\u001b[K\n",
            "Receiving objects: 100% (33/33), 273.67 KiB | 5.37 MiB/s, done.\n",
            "Resolving deltas: 100% (13/13), done.\n"
          ]
        }
      ],
      "source": [
        "!git clone https://github.com/mohandaz/HIA-302-Project"
      ]
    },
    {
      "cell_type": "markdown",
      "source": [
        "Libraries"
      ],
      "metadata": {
        "id": "IIIRalphJeNX"
      }
    },
    {
      "cell_type": "code",
      "source": [
        "import pandas as pd\n",
        "import csv\n",
        "import numpy as np"
      ],
      "metadata": {
        "id": "dD72gIX4JUEj"
      },
      "execution_count": 51,
      "outputs": []
    },
    {
      "cell_type": "markdown",
      "source": [
        "2.1 Demonstrate different ways to convert the horse-colic.txt file to horsecolic.csv."
      ],
      "metadata": {
        "id": "aetlHlRCJn4j"
      }
    },
    {
      "cell_type": "code",
      "source": [
        "import pandas as pd\n",
        "input_dir = '/content/HIA-302-Project/horse-colic.txt'\n",
        "# Specify input and output file paths\n",
        "output_dir = '/content/HIA-302-Project/horse-colic.csv'\n",
        "\n",
        "# Read the text file using Pandas and write to CSV\n",
        "df = pd.read_csv(input_dir)\n",
        "df.to_csv(output_dir, index=False, header=false)\n",
        "\n",
        "print(f\"Conversion completed. CSV file saved at: {output_dir}\")\n"
      ],
      "metadata": {
        "id": "1gptFVahpImH"
      },
      "execution_count": null,
      "outputs": []
    },
    {
      "cell_type": "markdown",
      "source": [
        "Converting .txt to .csv - using built-in 'csv' module"
      ],
      "metadata": {
        "id": "CyoqONPVK1pR"
      }
    },
    {
      "cell_type": "code",
      "source": [
        "import csv\n",
        "\n",
        "# Specify input and output file paths\n",
        "input_dir = '/content/HIA-302-Project/horse-colic.txt'\n",
        "output_dir = '/content/HIA-302-Project/horse-colic2.csv'\n",
        "\n",
        "# Read the text file and write to CSV\n",
        "with open(input_dir, 'r') as txt_file, open(output_dir, 'w', newline='') as csv_file:\n",
        "    # Create CSV writer object\n",
        "    csv_writer = csv.writer(csv_file)\n",
        "\n",
        "    # Read each line from the text file and write to the CSV file\n",
        "    for line in txt_file:\n",
        "        # Split the line into a list of values using ',' as the delimiter\n",
        "        values = line.strip().split(',')\n",
        "        # Write the values to the CSV file\n",
        "        csv_writer.writerow(values)\n",
        "\n",
        "print(f\"Conversion completed. CSV file saved at: {output_dir}\")\n",
        "\n",
        "\n"
      ],
      "metadata": {
        "id": "--iNwj7dqd1W",
        "outputId": "867d6213-d5f1-4270-8a9e-e0f020e19e6f",
        "colab": {
          "base_uri": "https://localhost:8080/"
        }
      },
      "execution_count": 21,
      "outputs": [
        {
          "output_type": "stream",
          "name": "stdout",
          "text": [
            "Conversion completed. CSV file saved at: /content/HIA-302-Project/horse-colic2.csv\n"
          ]
        }
      ]
    },
    {
      "cell_type": "markdown",
      "source": [
        "Checking data types"
      ],
      "metadata": {
        "id": "NiWQCg_w7YWa"
      }
    },
    {
      "cell_type": "markdown",
      "source": [
        "Question 2.2\n",
        " : Demonstrate that the csv file can read in Jupyter Notebook, and the dataset remains the same as the raw dataset.\n"
      ],
      "metadata": {
        "id": "I46WRGQqO4fY"
      }
    },
    {
      "cell_type": "code",
      "source": [
        "# Specify the path to the CSV file\n",
        "csv_dir = '/content/HIA-302-Project/horse-colic.csv'\n",
        "\n",
        "# Read the CSV file into a Pandas DataFrame\n",
        "horse_colic = pd.read_csv(csv_dir)\n",
        "\n",
        "# Display the first few rows of the CSV DataFrame\n",
        "\n",
        "horse_colic.info()\n",
        "horse_colic.head()\n"
      ],
      "metadata": {
        "id": "DpVICmu4qc0_"
      },
      "execution_count": null,
      "outputs": []
    },
    {
      "cell_type": "markdown",
      "source": [
        "2.3 Replase the missing values (i.e. with\"?\" with NaN (Not a Number) value in a loaded dataset using python"
      ],
      "metadata": {
        "id": "4ub8vja2qbpc"
      }
    },
    {
      "cell_type": "code",
      "source": [
        "horse_colic_with_NaN = horse_colic.replace(\"?\",\"NaN\")\n",
        "\n"
      ],
      "metadata": {
        "id": "3b5niecyppOE"
      },
      "execution_count": 67,
      "outputs": []
    },
    {
      "cell_type": "code",
      "source": [
        "horse_colic_with_NaN.head()"
      ],
      "metadata": {
        "id": "ccHTbfk4_Wzu"
      },
      "execution_count": null,
      "outputs": []
    },
    {
      "cell_type": "markdown",
      "source": [
        "2.4 Save the latest dataset with NaN as horse_colic_with_Nan.csv and ensure the data frame's row number is not saved into csv file"
      ],
      "metadata": {
        "id": "RVAyEIQi00_O"
      }
    },
    {
      "cell_type": "code",
      "source": [
        "output_dir = '/content/HIA-302-Project/horse_colic_with_NaN.csv'\n",
        "# Save the DataFrame to a CSV file\n",
        "horse_colic_with_NaN.to_csv(output_dir, index=False)\n",
        "\n",
        "print(f\"CSV file saved at: {output_dir}\")\n"
      ],
      "metadata": {
        "id": "0XkKebWN3Ymw",
        "outputId": "a529e433-13d9-4eae-c7cb-ea78e5e671a7",
        "colab": {
          "base_uri": "https://localhost:8080/"
        }
      },
      "execution_count": 69,
      "outputs": [
        {
          "output_type": "stream",
          "name": "stdout",
          "text": [
            "CSV file saved at: /content/HIA-302-Project/horse_colic_with_NaN.csv\n"
          ]
        }
      ]
    },
    {
      "cell_type": "code",
      "source": [
        "horse_colic_with_NaN.info()"
      ],
      "metadata": {
        "id": "sgstlyemEyzI"
      },
      "execution_count": null,
      "outputs": []
    },
    {
      "cell_type": "code",
      "source": [],
      "metadata": {
        "id": "ZJy4Vul_HWoP"
      },
      "execution_count": 50,
      "outputs": []
    },
    {
      "cell_type": "markdown",
      "source": [
        "2.5 Rename the header by following the description file (horse-colic.names) with not more than 10 characters i the header title"
      ],
      "metadata": {
        "id": "n7ZlY4QW1LBK"
      }
    },
    {
      "cell_type": "markdown",
      "source": [
        "2.6 Save the latest dataset with header title as horse_colic_with_title.csv and ensure the data frame's row number is not saved into csv file."
      ],
      "metadata": {
        "id": "pGj26n8e1acH"
      }
    },
    {
      "cell_type": "markdown",
      "source": [
        "2.7 Load the horse_colic_with_title.csv file and display list of total NaN at each column in the data set."
      ],
      "metadata": {
        "id": "jisAv-jO1vBD"
      }
    },
    {
      "cell_type": "markdown",
      "source": [
        "2.8 Visualize the totsl NaN at each column in the dataset with a bar chart and set colour to 'blue' using Metplotlib library"
      ],
      "metadata": {
        "id": "duqutQzA16RY"
      }
    },
    {
      "cell_type": "markdown",
      "source": [
        "2.9 Retrive the datatypes for the dataset"
      ],
      "metadata": {
        "id": "bYqPqv6m2Hx2"
      }
    },
    {
      "cell_type": "markdown",
      "source": [
        "2.10 In this dataset, will it be good idea to delete/drop tha NaN rows? Justify your answer"
      ],
      "metadata": {
        "id": "GAvVUVX82N5G"
      }
    },
    {
      "cell_type": "markdown",
      "source": [
        "2.11 Read and evaluate the following codes in Figure 1. What method is the code using to reduce missing values from 1605 to 0? Justify your answer"
      ],
      "metadata": {
        "id": "ZR02B_5V2ZX3"
      }
    },
    {
      "cell_type": "markdown",
      "source": [
        "2.12 Fill out the inline comments marked with hashtags # in lines 8,11,17,20,22. and 26. include the missing codes in line 5 and 6"
      ],
      "metadata": {
        "id": "-jvtJHsA2rL6"
      }
    }
  ]
}