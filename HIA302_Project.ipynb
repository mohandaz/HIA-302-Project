{
  "nbformat": 4,
  "nbformat_minor": 0,
  "metadata": {
    "colab": {
      "provenance": [],
      "authorship_tag": "ABX9TyNZR3mZJUs+fR/A/twlQYcc",
      "include_colab_link": true
    },
    "kernelspec": {
      "name": "python3",
      "display_name": "Python 3"
    },
    "language_info": {
      "name": "python"
    }
  },
  "cells": [
    {
      "cell_type": "markdown",
      "metadata": {
        "id": "view-in-github",
        "colab_type": "text"
      },
      "source": [
        "<a href=\"https://colab.research.google.com/github/mohandaz/HIA-302-Project/blob/main/HIA302_Project.ipynb\" target=\"_parent\"><img src=\"https://colab.research.google.com/assets/colab-badge.svg\" alt=\"Open In Colab\"/></a>"
      ]
    },
    {
      "cell_type": "markdown",
      "source": [
        "CLone Github Repository : https://github.com/mohandaz/HIA-302-Project"
      ],
      "metadata": {
        "id": "wQQGxpfjI1XS"
      }
    },
    {
      "cell_type": "code",
      "execution_count": 1,
      "metadata": {
        "id": "KLzPsvyXH9lf",
        "outputId": "679ca09b-87e3-4e2e-adf8-72f096a9d92d",
        "colab": {
          "base_uri": "https://localhost:8080/"
        }
      },
      "outputs": [
        {
          "output_type": "stream",
          "name": "stdout",
          "text": [
            "Cloning into 'HIA-302-Project'...\n",
            "remote: Enumerating objects: 50, done.\u001b[K\n",
            "remote: Counting objects: 100% (50/50), done.\u001b[K\n",
            "remote: Compressing objects: 100% (46/46), done.\u001b[K\n",
            "remote: Total 50 (delta 22), reused 0 (delta 0), pack-reused 0\u001b[K\n",
            "Receiving objects: 100% (50/50), 280.90 KiB | 9.06 MiB/s, done.\n",
            "Resolving deltas: 100% (22/22), done.\n"
          ]
        }
      ],
      "source": [
        "!git clone https://github.com/mohandaz/HIA-302-Project"
      ]
    },
    {
      "cell_type": "markdown",
      "source": [
        "Libraries"
      ],
      "metadata": {
        "id": "IIIRalphJeNX"
      }
    },
    {
      "cell_type": "code",
      "source": [
        "import pandas as pd\n",
        "import csv\n",
        "import numpy as np"
      ],
      "metadata": {
        "id": "dD72gIX4JUEj"
      },
      "execution_count": 2,
      "outputs": []
    },
    {
      "cell_type": "markdown",
      "source": [
        "2.1 Demonstrate different ways to convert the horse-colic.txt file to horse-colic.csv."
      ],
      "metadata": {
        "id": "aetlHlRCJn4j"
      }
    },
    {
      "cell_type": "code",
      "source": [
        "import csv\n",
        "import pandas as pd\n",
        "\n",
        "# Specify input and output directories\n",
        "input_dir = '/content/HIA-302-Project/horse-colic.txt'\n",
        "output_dir = '/content/HIA-302-Project/horse-colic.csv'\n",
        "\n",
        "# Read the text file into a DataFrame\n",
        "df = pd.read_csv(input_dir, sep='\\s+', header=None)\n",
        "\n",
        "# Write to CSV file with empty header and default index\n",
        "with open(output_dir, 'w', newline='') as csv_file:\n",
        "    csv_writer = csv.writer(csv_file)\n",
        "\n",
        "    # Write an empty row as the header\n",
        "    csv_writer.writerow([])\n",
        "\n",
        "    # Write the data rows\n",
        "    for _, row in df.iterrows():\n",
        "        csv_writer.writerow(row)\n",
        "\n"
      ],
      "metadata": {
        "id": "1gptFVahpImH"
      },
      "execution_count": 13,
      "outputs": []
    },
    {
      "cell_type": "markdown",
      "source": [
        "Converting .txt to .csv - using Python built-in 'csv' module"
      ],
      "metadata": {
        "id": "CyoqONPVK1pR"
      }
    },
    {
      "cell_type": "code",
      "source": [
        "import csv\n",
        "\n",
        "# Input and output file paths\n",
        "txt_path = \"/content/HIA-302-Project/horse-colic.txt\"\n",
        "csv_path = \"/content/HIA-302-Project/horse-colic.csv\"\n",
        "\n",
        "# Read lines from the text file\n",
        "with open(txt_path, 'r') as txt_file:\n",
        "    lines = txt_file.readlines()\n",
        "\n",
        "# Extract data lines\n",
        "data_lines = [line.strip().split(',') for line in lines]\n",
        "\n",
        "# Write to CSV file with empty header and default index\n",
        "with open(csv_path, 'w', newline='') as csv_file:\n",
        "    csv_writer = csv.writer(csv_file)\n",
        "\n",
        "    # Write data\n",
        "    csv_writer.writerows(data_lines)\n",
        "\n",
        "print(f\"Conversion successful. CSV file saved at: {csv_path}\")"
      ],
      "metadata": {
        "id": "--iNwj7dqd1W",
        "outputId": "e84e1b35-6e9f-4696-c33f-bcedd2e8e589",
        "colab": {
          "base_uri": "https://localhost:8080/"
        }
      },
      "execution_count": 11,
      "outputs": [
        {
          "output_type": "stream",
          "name": "stdout",
          "text": [
            "Conversion successful. CSV file saved at: /content/HIA-302-Project/horse-colic.csv\n"
          ]
        }
      ]
    },
    {
      "cell_type": "markdown",
      "source": [
        "Checking data types"
      ],
      "metadata": {
        "id": "NiWQCg_w7YWa"
      }
    },
    {
      "cell_type": "markdown",
      "source": [
        "Question 2.2\n",
        " : Demonstrate that the csv file can read in Jupyter Notebook, and the dataset remains the same as the raw dataset.\n"
      ],
      "metadata": {
        "id": "I46WRGQqO4fY"
      }
    },
    {
      "cell_type": "code",
      "source": [
        "# Specify the path to the CSV file\n",
        "csv_dir = '/content/HIA-302-Project/horse-colic.csv'\n",
        "\n",
        "# Read the CSV file into a Pandas DataFrame\n",
        "horse_colic = pd.read_csv(csv_dir, index_col=0, header=0)\n",
        "\n",
        "# Display the first few rows of the CSV DataFrame\n",
        "\n",
        "horse_colic.info()\n",
        "horse_colic.head()\n"
      ],
      "metadata": {
        "id": "DpVICmu4qc0_"
      },
      "execution_count": null,
      "outputs": []
    },
    {
      "cell_type": "markdown",
      "source": [
        "2.3 Replase the missing values (i.e. with\"?\" with NaN (Not a Number) value in a loaded dataset using python"
      ],
      "metadata": {
        "id": "4ub8vja2qbpc"
      }
    },
    {
      "cell_type": "code",
      "source": [
        "horse_colic_with_NaN = horse_colic.replace(\"?\",\"NaN\")\n",
        "\n"
      ],
      "metadata": {
        "id": "3b5niecyppOE"
      },
      "execution_count": 272,
      "outputs": []
    },
    {
      "cell_type": "code",
      "source": [
        "horse_colic_with_NaN.head()"
      ],
      "metadata": {
        "id": "ccHTbfk4_Wzu"
      },
      "execution_count": null,
      "outputs": []
    },
    {
      "cell_type": "markdown",
      "source": [
        "2.4 Save the latest dataset with NaN as horse_colic_with_Nan.csv and ensure the data frame's row number is not saved into csv file"
      ],
      "metadata": {
        "id": "RVAyEIQi00_O"
      }
    },
    {
      "cell_type": "code",
      "source": [
        "output_dir = '/content/HIA-302-Project/horse_colic_with_NaN.csv'\n",
        "# Save the DataFrame to a CSV file\n",
        "horse_colic_with_NaN.to_csv(output_dir)\n",
        "horse_colic_with_NaN.to_csv(output_dir, index=False)\n",
        "\n",
        "print(f\"CSV file saved at: {output_dir}\")"
      ],
      "metadata": {
        "id": "0XkKebWN3Ymw",
        "outputId": "88440ba4-b08b-40b9-bd5e-0fbe368239ed",
        "colab": {
          "base_uri": "https://localhost:8080/"
        }
      },
      "execution_count": 275,
      "outputs": [
        {
          "output_type": "stream",
          "name": "stdout",
          "text": [
            "CSV file saved at: /content/HIA-302-Project/horse_colic_with_NaN.csv\n"
          ]
        }
      ]
    },
    {
      "cell_type": "code",
      "source": [
        "\n",
        "print(f\"Total number of NaN values in the DataFrame: {total_nan_count}\")"
      ],
      "metadata": {
        "id": "ZJy4Vul_HWoP",
        "outputId": "86871449-7837-424e-f317-229497a81e77",
        "colab": {
          "base_uri": "https://localhost:8080/"
        }
      },
      "execution_count": 257,
      "outputs": [
        {
          "output_type": "stream",
          "name": "stdout",
          "text": [
            "Replacement completed. CSV file saved.\n",
            "Number of NaN values in each column:\n",
            "0       1\n",
            "1       0\n",
            "2       0\n",
            "3      60\n",
            "4      24\n",
            "5      58\n",
            "6      56\n",
            "7      69\n",
            "8      47\n",
            "9      32\n",
            "10     55\n",
            "11     44\n",
            "12     56\n",
            "13    104\n",
            "14    106\n",
            "15    247\n",
            "16    102\n",
            "17    118\n",
            "18     29\n",
            "19     33\n",
            "20    165\n",
            "21    198\n",
            "22      1\n",
            "23      0\n",
            "24      0\n",
            "25      0\n",
            "26      0\n",
            "27      0\n",
            "dtype: int64\n",
            "Total number of NaN values in the DataFrame: 1605\n"
          ]
        }
      ]
    },
    {
      "cell_type": "markdown",
      "source": [
        "2.5 Rename the header by following the description file (horse-colic.names) with not more than 10 characters i the header title"
      ],
      "metadata": {
        "id": "n7ZlY4QW1LBK"
      }
    },
    {
      "cell_type": "markdown",
      "source": [
        "2.6 Save the latest dataset with header title as horse_colic_with_title.csv and ensure the data frame's row number is not saved into csv file."
      ],
      "metadata": {
        "id": "pGj26n8e1acH"
      }
    },
    {
      "cell_type": "markdown",
      "source": [
        "2.7 Load the horse_colic_with_title.csv file and display list of total NaN at each column in the data set."
      ],
      "metadata": {
        "id": "jisAv-jO1vBD"
      }
    },
    {
      "cell_type": "markdown",
      "source": [
        "2.8 Visualize the totsl NaN at each column in the dataset with a bar chart and set colour to 'blue' using Metplotlib library"
      ],
      "metadata": {
        "id": "duqutQzA16RY"
      }
    },
    {
      "cell_type": "markdown",
      "source": [
        "2.9 Retrive the datatypes for the dataset"
      ],
      "metadata": {
        "id": "bYqPqv6m2Hx2"
      }
    },
    {
      "cell_type": "markdown",
      "source": [
        "2.10 In this dataset, will it be good idea to delete/drop tha NaN rows? Justify your answer"
      ],
      "metadata": {
        "id": "GAvVUVX82N5G"
      }
    },
    {
      "cell_type": "markdown",
      "source": [
        "2.11 Read and evaluate the following codes in Figure 1. What method is the code using to reduce missing values from 1605 to 0? Justify your answer"
      ],
      "metadata": {
        "id": "ZR02B_5V2ZX3"
      }
    },
    {
      "cell_type": "markdown",
      "source": [
        "2.12 Fill out the inline comments marked with hashtags # in lines 8,11,17,20,22. and 26. include the missing codes in line 5 and 6"
      ],
      "metadata": {
        "id": "-jvtJHsA2rL6"
      }
    }
  ]
}